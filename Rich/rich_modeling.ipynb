{
 "cells": [
  {
   "cell_type": "code",
   "execution_count": 34,
   "metadata": {},
   "outputs": [],
   "source": [
    "from rich_modeling import *\n",
    "\n",
    "\n",
    "\n"
   ]
  },
  {
   "cell_type": "code",
   "execution_count": 35,
   "metadata": {},
   "outputs": [
    {
     "name": "stdout",
     "output_type": "stream",
     "text": [
      "We dropped 1765 rows\n",
      "(-0.05, 0.05]    11187\n",
      "(0.05, 0.2]       3081\n",
      "(-0.2, -0.05]     2626\n",
      "(0.2, 4.0]         894\n",
      "(-5.0, -0.2]       505\n",
      "Name: logerror_bins, dtype: int64\n",
      "(-0.05, 0.05]    5395\n",
      "(0.05, 0.2]      1221\n",
      "(-0.2, -0.05]     615\n",
      "(0.2, 4.0]        312\n",
      "(-5.0, -0.2]      121\n",
      "Name: logerror_bins, dtype: int64\n",
      "(-0.05, 0.05]    1763\n",
      "(0.05, 0.2]       357\n",
      "(-0.2, -0.05]     212\n",
      "(0.2, 4.0]         66\n",
      "(-5.0, -0.2]       22\n",
      "Name: logerror_bins, dtype: int64\n"
     ]
    }
   ],
   "source": [
    "\n",
    "\n",
    "partitionslist=partitionslist_with_scaled(scaled_vars = ['latitude', 'longitude', 'bathroomcnt', 'taxrate'])\n"
   ]
  },
  {
   "cell_type": "code",
   "execution_count": 37,
   "metadata": {},
   "outputs": [],
   "source": [
    "\n",
    "\n",
    "\n",
    "\n",
    "\n",
    "\n",
    "mvp=['scaled_latitude', 'scaled_longitude', 'scaled_bathroomcnt',\n",
    "       'scaled_taxrate']\n",
    "\n",
    "train,X_train, X_validate, X_test, y_train, y_validate, y_test=partitionslist[0]\n",
    "\n",
    "#This step is to ensure we only send scaled data to the model\n",
    "MVPlist=mvpXforModels(partitionslist,mvp)\n",
    "X_train, X_validate, X_test=MVPlist[0]       \n",
    "\n",
    "rmseDF=regmodelbest(X_train, X_validate, X_test, y_train, y_validate, y_test,random=123)\n",
    "rmseDF"
   ]
  },
  {
   "cell_type": "code",
   "execution_count": 42,
   "metadata": {},
   "outputs": [],
   "source": [
    "LArmseDF=LATest(X_train,X_validate,X_test,y_train,y_validate,y_test)\n",
    "\n",
    "LArmseDF\n"
   ]
  },
  {
   "cell_type": "code",
   "execution_count": null,
   "metadata": {},
   "outputs": [],
   "source": []
  }
 ],
 "metadata": {
  "kernelspec": {
   "display_name": "Python 3.9.10 ('base')",
   "language": "python",
   "name": "python3"
  },
  "language_info": {
   "codemirror_mode": {
    "name": "ipython",
    "version": 3
   },
   "file_extension": ".py",
   "mimetype": "text/x-python",
   "name": "python",
   "nbconvert_exporter": "python",
   "pygments_lexer": "ipython3",
   "version": "3.9.10"
  },
  "orig_nbformat": 4,
  "vscode": {
   "interpreter": {
    "hash": "38cca0c38332a56087b24af0bc80247f4fced29cb4f7f437d91dc159adec9c4e"
   }
  }
 },
 "nbformat": 4,
 "nbformat_minor": 2
}
